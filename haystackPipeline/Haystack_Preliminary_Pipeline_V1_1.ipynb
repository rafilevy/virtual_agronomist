{
 "cells": [
  {
   "cell_type": "code",
   "execution_count": null,
   "metadata": {
    "id": "_dx3DvFcESED"
   },
   "outputs": [],
   "source": [
    "# Check for running GPU\n",
    "!nvidia-smi"
   ]
  },
  {
   "cell_type": "code",
   "execution_count": null,
   "metadata": {
    "id": "oawGovRjEkPF"
   },
   "outputs": [
    {
     "name": "stdout",
     "output_type": "stream",
     "text": [
      "Collecting farm-haystack\n",
      "\u001b[?25l  Downloading https://files.pythonhosted.org/packages/fb/3b/6ace41907ea743b9f9645a4ca00d5651da20634506f92736495538a1abad/farm_haystack-0.7.0-py3-none-any.whl (114kB)\n",
      "\u001b[K     |████████████████████████████████| 122kB 5.6MB/s eta 0:00:01\n",
      "\u001b[?25hCollecting farm==0.6.2\n",
      "\u001b[?25l  Downloading https://files.pythonhosted.org/packages/5b/3d/91c184813b8205c697c13117154f3216f01709291155cc9ee88628cb63d2/farm-0.6.2-py3-none-any.whl (207kB)\n",
      "\u001b[K     |████████████████████████████████| 215kB 8.5MB/s eta 0:00:01\n",
      "\u001b[?25hCollecting elasticsearch<=7.10,>=7.7\n",
      "\u001b[?25l  Downloading https://files.pythonhosted.org/packages/14/ba/f950bdd9164fb2bbbe5093700162234fbe61f446fe2300a8993761c132ca/elasticsearch-7.10.0-py2.py3-none-any.whl (321kB)\n",
      "\u001b[K     |████████████████████████████████| 327kB 9.5MB/s eta 0:00:01\n",
      "\u001b[?25hCollecting python-docx\n",
      "\u001b[?25l  Downloading https://files.pythonhosted.org/packages/e4/83/c66a1934ed5ed8ab1dbb9931f1779079f8bca0f6bbc5793c06c4b5e7d671/python-docx-0.8.10.tar.gz (5.5MB)\n",
      "\u001b[K     |████████████████████████████████| 5.5MB 7.3MB/s eta 0:00:01\n",
      "\u001b[?25hCollecting sqlalchemy-utils\n",
      "\u001b[?25l  Downloading https://files.pythonhosted.org/packages/14/68/e5301c4c960c79a32333b8805e52cb69d3d237aa869a773b4157ccb3eb26/SQLAlchemy-Utils-0.36.8.tar.gz (138kB)\n",
      "\u001b[K     |████████████████████████████████| 143kB 15.7MB/s eta 0:00:01\n",
      "\u001b[?25hRequirement already satisfied: pandas in /usr/local/lib/python3.6/dist-packages (from farm-haystack) (0.25.3)\n",
      "Collecting coverage\n",
      "\u001b[?25l  Downloading https://files.pythonhosted.org/packages/b3/4f/72f381d5027bd1e7efa13a2f2e5f930603ccb2232aafe945e059aed00429/coverage-5.4-cp36-cp36m-manylinux2010_x86_64.whl (240kB)\n",
      "\u001b[K     |████████████████████████████████| 245kB 13.1MB/s eta 0:00:01\n",
      "\u001b[?25hCollecting psycopg2-binary; sys_platform != \"win32\" and sys_platform != \"cygwin\"\n",
      "\u001b[?25l  Downloading https://files.pythonhosted.org/packages/f2/1b/720b36697158113ca1b2221a8e96a470088ccf3770d182214689d1a96a07/psycopg2_binary-2.8.6-cp36-cp36m-manylinux1_x86_64.whl (3.0MB)\n",
      "\u001b[K     |████████████████████████████████| 3.0MB 15.9MB/s eta 0:00:01\n",
      "\u001b[?25hCollecting tika\n",
      "  Downloading https://files.pythonhosted.org/packages/96/07/244fbb9c74c0de8a3745cc9f3f496077a29f6418c7cbd90d68fd799574cb/tika-1.24.tar.gz\n",
      "Collecting networkx\n",
      "\u001b[?25l  Downloading https://files.pythonhosted.org/packages/9b/cd/dc52755d30ba41c60243235460961fc28022e5b6731f16c268667625baea/networkx-2.5-py3-none-any.whl (1.6MB)\n",
      "\u001b[K     |████████████████████████████████| 1.6MB 2.1MB/s eta 0:00:01\n",
      "\u001b[?25hCollecting fastapi\n",
      "\u001b[?25l  Downloading https://files.pythonhosted.org/packages/9f/33/1b643f650688ad368983bbaf3b0658438038ea84d775dd37393d826c3833/fastapi-0.63.0-py3-none-any.whl (50kB)\n",
      "\u001b[K     |████████████████████████████████| 51kB 3.8MB/s  eta 0:00:01\n",
      "\u001b[?25hCollecting httptools\n",
      "\u001b[?25l  Downloading https://files.pythonhosted.org/packages/b1/a6/dc1e7e8f4049ab70d52c9690ec10652e268ab2542853033cc1d539594102/httptools-0.1.1-cp36-cp36m-manylinux1_x86_64.whl (216kB)\n",
      "\u001b[K     |████████████████████████████████| 225kB 12.9MB/s eta 0:00:01\n",
      "\u001b[?25hRequirement already satisfied: sklearn in /usr/local/lib/python3.6/dist-packages (from farm-haystack) (0.0)\n",
      "Collecting gunicorn\n",
      "\u001b[?25l  Downloading https://files.pythonhosted.org/packages/69/ca/926f7cd3a2014b16870086b2d0fdc84a9e49473c68a8dff8b57f7c156f43/gunicorn-20.0.4-py2.py3-none-any.whl (77kB)\n",
      "\u001b[K     |████████████████████████████████| 81kB 6.9MB/s  eta 0:00:01\n",
      "\u001b[?25hCollecting nltk\n",
      "\u001b[?25l  Downloading https://files.pythonhosted.org/packages/92/75/ce35194d8e3022203cca0d2f896dbb88689f9b3fce8e9f9cff942913519d/nltk-3.5.zip (1.4MB)\n",
      "\u001b[K     |████████████████████████████████| 1.4MB 11.5MB/s eta 0:00:01\n",
      "\u001b[?25hCollecting langdetect\n",
      "\u001b[?25l  Downloading https://files.pythonhosted.org/packages/56/a3/8407c1e62d5980188b4acc45ef3d94b933d14a2ebc9ef3505f22cf772570/langdetect-1.0.8.tar.gz (981kB)\n",
      "\u001b[K     |████████████████████████████████| 983kB 14.2MB/s eta 0:00:01\n",
      "\u001b[?25hCollecting more-itertools\n",
      "\u001b[?25l  Downloading https://files.pythonhosted.org/packages/05/47/514062a0798c2e9bdfd4514bacf9971fc8961b715f01487e4cfda3cc45a7/more_itertools-8.7.0-py3-none-any.whl (48kB)\n",
      "\u001b[K     |████████████████████████████████| 51kB 5.8MB/s  eta 0:00:01\n",
      "\u001b[?25hCollecting tox\n",
      "\u001b[?25l  Downloading https://files.pythonhosted.org/packages/4f/e2/ab817be1680bc6d39c24c6cc05253d1bfa3e8b57d034352be266ea95a5d8/tox-3.21.4-py2.py3-none-any.whl (84kB)\n",
      "\u001b[K     |████████████████████████████████| 92kB 6.9MB/s  eta 0:00:01\n",
      "\u001b[?25hCollecting python-multipart\n",
      "  Downloading https://files.pythonhosted.org/packages/46/40/a933ac570bf7aad12a298fc53458115cc74053474a72fbb8201d7dc06d3d/python-multipart-0.0.5.tar.gz\n",
      "Collecting faiss-cpu==1.6.3; sys_platform != \"win32\" and sys_platform != \"cygwin\"\n",
      "\u001b[?25l  Downloading https://files.pythonhosted.org/packages/1d/84/9de38703486d9f00b1a63590887a318d08c52f10f768968bd7626aee75da/faiss_cpu-1.6.3-cp36-cp36m-manylinux2010_x86_64.whl (7.2MB)\n",
      "\u001b[K     |████████████████████████████████| 7.2MB 14.2MB/s eta 0:00:01\n",
      "\u001b[?25hCollecting elastic-apm\n",
      "\u001b[?25l  Downloading https://files.pythonhosted.org/packages/b6/25/c1d8f76b7788fae7c6c80f8b17eff305ecf83a6e71404795afd070ae80ca/elastic_apm-6.0.0-cp36-cp36m-manylinux2010_x86_64.whl (317kB)\n",
      "\u001b[K     |████████████████████████████████| 327kB 11.9MB/s eta 0:00:01\n",
      "\u001b[?25hCollecting uvicorn\n",
      "\u001b[?25l  Downloading https://files.pythonhosted.org/packages/2e/02/1e2520f6999e793d5bc5c15d8057b2e829d16a148e41199e0ae519653fa0/uvicorn-0.13.3-py3-none-any.whl (45kB)\n",
      "\u001b[K     |████████████████████████████████| 51kB 5.9MB/s  eta 0:00:01\n",
      "\u001b[?25hCollecting uvloop; sys_platform != \"win32\" and sys_platform != \"cygwin\"\n",
      "\u001b[?25l  Downloading https://files.pythonhosted.org/packages/41/48/586225bbb02d3bdca475b17e4be5ce5b3f09da2d6979f359916c1592a687/uvloop-0.14.0-cp36-cp36m-manylinux2010_x86_64.whl (3.9MB)\n",
      "\u001b[K     |████████████████████████████████| 3.9MB 17.6MB/s eta 0:00:01\n",
      "\u001b[?25hCollecting tqdm\n",
      "\u001b[?25l  Downloading https://files.pythonhosted.org/packages/51/c1/2b9a2bf4b47481777c79bf6daad23a621ffc81e15fb0edf23b8ce42e0d61/tqdm-4.56.1-py2.py3-none-any.whl (72kB)\n",
      "\u001b[K     |████████████████████████████████| 81kB 5.6MB/s  eta 0:00:01\n",
      "\u001b[?25hRequirement already satisfied: setuptools in /usr/lib/python3/dist-packages (from farm==0.6.2->farm-haystack) (39.0.1)\n",
      "Requirement already satisfied: wheel in /usr/lib/python3/dist-packages (from farm==0.6.2->farm-haystack) (0.30.0)\n",
      "Collecting sentencepiece\n",
      "\u001b[?25l  Downloading https://files.pythonhosted.org/packages/14/67/e42bd1181472c95c8cda79305df848264f2a7f62740995a46945d9797b67/sentencepiece-0.1.95-cp36-cp36m-manylinux2014_x86_64.whl (1.2MB)\n",
      "\u001b[K     |████████████████████████████████| 1.2MB 18.2MB/s eta 0:00:01\n",
      "\u001b[?25hCollecting dotmap\n",
      "  Downloading https://files.pythonhosted.org/packages/17/6f/c94adbb0e6d418ededbf1082a3067f178fb012573b960d446e5655e6fbe1/dotmap-1.3.23-py3-none-any.whl\n",
      "Collecting psutil\n",
      "\u001b[?25l  Downloading https://files.pythonhosted.org/packages/da/82/56cd16a4c5f53e3e5dd7b2c30d5c803e124f218ebb644ca9c30bc907eadd/psutil-5.8.0-cp36-cp36m-manylinux2010_x86_64.whl (291kB)\n",
      "\u001b[K     |████████████████████████████████| 296kB 17.2MB/s eta 0:00:01\n",
      "\u001b[?25hCollecting seqeval\n",
      "\u001b[?25l  Downloading https://files.pythonhosted.org/packages/9d/2d/233c79d5b4e5ab1dbf111242299153f3caddddbb691219f363ad55ce783d/seqeval-1.2.2.tar.gz (43kB)\n",
      "\u001b[K     |████████████████████████████████| 51kB 5.4MB/s  eta 0:00:01\n",
      "\u001b[?25hCollecting flask\n",
      "\u001b[?25l  Downloading https://files.pythonhosted.org/packages/f2/28/2a03252dfb9ebf377f40fba6a7841b47083260bf8bd8e737b0c6952df83f/Flask-1.1.2-py2.py3-none-any.whl (94kB)\n",
      "\u001b[K     |████████████████████████████████| 102kB 9.6MB/s eta 0:00:01\n",
      "\u001b[?25hCollecting transformers==4.1.1\n",
      "\u001b[?25l  Downloading https://files.pythonhosted.org/packages/50/0c/7d5950fcd80b029be0a8891727ba21e0cd27692c407c51261c3c921f6da3/transformers-4.1.1-py3-none-any.whl (1.5MB)\n",
      "\u001b[K     |████████████████████████████████| 1.5MB 18.2MB/s eta 0:00:01\n",
      "\u001b[?25hCollecting flask-cors\n",
      "  Downloading https://files.pythonhosted.org/packages/db/84/901e700de86604b1c4ef4b57110d4e947c218b9997adf5d38fa7da493bce/Flask_Cors-3.0.10-py2.py3-none-any.whl\n",
      "Collecting boto3\n",
      "\u001b[?25l  Downloading https://files.pythonhosted.org/packages/51/ab/2f0571fc563f0f62d419d101b827325f9ce8037b925b7180151f18ba05cb/boto3-1.17.5.tar.gz (100kB)\n"
     ]
    },
    {
     "name": "stdout",
     "output_type": "stream",
     "text": [
      "\u001b[K     |████████████████████████████████| 102kB 1.1MB/s eta 0:00:01\n",
      "\u001b[?25hCollecting flask-restplus\n",
      "\u001b[?25l  Downloading https://files.pythonhosted.org/packages/c2/a6/b17c848771f96ad039ad9e3ea275e842a16c39c4f3eb9f60ee330b20b6c2/flask_restplus-0.13.0-py2.py3-none-any.whl (2.5MB)\n",
      "\u001b[K     |████████████████████████████████| 2.5MB 16.7MB/s eta 0:00:01\n",
      "\u001b[?25hCollecting mlflow<=1.13.1\n",
      "\u001b[?25l  Downloading https://files.pythonhosted.org/packages/4c/4d/a6a4460e214842377dbc43d3e83bf976d564f7976822a9351adde60af44b/mlflow-1.13.1-py3-none-any.whl (14.1MB)\n",
      "\u001b[K     |████████████████████████████████| 14.2MB 400kB/s  eta 0:00:01\n",
      "\u001b[?25hCollecting dill\n",
      "\u001b[?25l  Downloading https://files.pythonhosted.org/packages/52/d6/79f40d230895fa1ce3b6af0d22e0ac79c65175dc069c194b79cc8e05a033/dill-0.3.3-py2.py3-none-any.whl (81kB)\n",
      "\u001b[K     |████████████████████████████████| 81kB 6.3MB/s  eta 0:00:01\n",
      "\u001b[?25hRequirement already satisfied: requests in /usr/lib/python3/dist-packages (from farm==0.6.2->farm-haystack) (2.18.4)\n",
      "Collecting torch<1.8,>1.5\n",
      "\u001b[?25l  Downloading https://files.pythonhosted.org/packages/90/4f/acf48b3a18a8f9223c6616647f0a011a5713a985336088d7c76f3a211374/torch-1.7.1-cp36-cp36m-manylinux1_x86_64.whl (776.8MB)\n",
      "\u001b[K     |█████████████████████████████▊  | 721.7MB 5.7MB/s eta 0:00:106    |███▉                            | 92.6MB 22.8MB/s eta 0:00:30     |███████████▍                    | 275.4MB 7.7MB/s eta 0:01:06     |█████████████████████████████   | 705.5MB 5.9MB/s eta 0:00:12     |█████████████████████████████▋  | 718.7MB 4.4MB/s eta 0:00:14"
     ]
    }
   ],
   "source": [
    "#run once for initial installs\n",
    "! pip install farm-haystack\n",
    "! pip install git+https://github.com/deepset-ai/haystack.git\n",
    "! pip install urllib3==1.25.4\n",
    "! pip install torch==1.6.0+cu101 torchvision==0.6.1+cu101 -f https://download.pytorch.org/whl/torch_stable.html"
   ]
  },
  {
   "cell_type": "code",
   "execution_count": 4,
   "metadata": {
    "id": "OINw-zqjFooP"
   },
   "outputs": [],
   "source": [
    "#Start Elasticsearch from source\n",
    "! wget https://artifacts.elastic.co/downloads/elasticsearch/elasticsearch-7.6.2-linux-x86_64.tar.gz -q\n",
    "! tar -xzf elasticsearch-7.6.2-linux-x86_64.tar.gz\n",
    "! chown -R daemon:daemon elasticsearch-7.6.2"
   ]
  },
  {
   "cell_type": "code",
   "execution_count": 10,
   "metadata": {
    "colab": {
     "base_uri": "https://localhost:8080/"
    },
    "id": "F1JXvtG1KFbu",
    "outputId": "53456f45-7378-480b-c53f-43bbb14b3de1"
   },
   "outputs": [
    {
     "name": "stderr",
     "output_type": "stream",
     "text": [
      "02/09/2021 00:19:43 - INFO - elasticsearch -   PUT http://localhost:9200/document [status:200 request:0.381s]\n",
      "02/09/2021 00:19:43 - INFO - elasticsearch -   PUT http://localhost:9200/label [status:200 request:0.201s]\n"
     ]
    }
   ],
   "source": [
    "# Connect to Elasticsearch\n",
    "import os\n",
    "from subprocess import Popen, PIPE, STDOUT\n",
    "es_server = Popen(['elasticsearch-7.6.2/bin/elasticsearch'],\n",
    "                   stdout=PIPE, stderr=STDOUT,\n",
    "                   preexec_fn=lambda: os.setuid(1)\n",
    "                  )\n",
    "from haystack.document_store.elasticsearch import ElasticsearchDocumentStore\n",
    "document_store = ElasticsearchDocumentStore(host=\"localhost\", username=\"\", password=\"\", index=\"document\")"
   ]
  },
  {
   "cell_type": "code",
   "execution_count": null,
   "metadata": {
    "id": "gT3fxP2UKHcS"
   },
   "outputs": [],
   "source": [
    "from haystack.preprocessor.cleaning import clean_wiki_text\n",
    "from haystack.preprocessor.utils import convert_files_to_dicts, fetch_archive_from_http\n",
    "from haystack.reader.farm import FARMReader\n",
    "\n",
    "# Testing with tutorial data\n",
    "doc_dir = \"data/article_txt_got\"\n",
    "s3_url = \"https://s3.eu-central-1.amazonaws.com/deepset.ai-farm-qa/datasets/documents/wiki_gameofthrones_txt.zip\"\n",
    "fetch_archive_from_http(url=s3_url, output_dir=doc_dir)\n",
    "dicts = convert_files_to_dicts(dir_path=doc_dir, clean_func=clean_wiki_text, split_paragraphs=True)\n",
    "\n",
    "# Connecting point to preprocessing of as4\n",
    "document_store.write_documents(dicts)"
   ]
  },
  {
   "cell_type": "code",
   "execution_count": 12,
   "metadata": {
    "id": "TFIjvlTwLSoN"
   },
   "outputs": [],
   "source": [
    "# Fast filter to narrow down text - Default BM25, can be cunstomised\n",
    "from haystack.retriever.sparse import ElasticsearchRetriever\n",
    "retriever = ElasticsearchRetriever(document_store=document_store)"
   ]
  },
  {
   "cell_type": "code",
   "execution_count": null,
   "metadata": {
    "id": "0sXdUWDpMzsw"
   },
   "outputs": [],
   "source": [
    "# Reader to further scan with Hugging Face models\n",
    "# reader = TransformersReader(model_name_or_path=\"distilbert-base-uncased-distilled-squad\", tokenizer=\"distilbert-base-uncased\", use_gpu=-1)\n",
    "reader = FARMReader(model_name_or_path=\"deepset/bert-large-uncased-whole-word-masking-squad2\", use_gpu=True)"
   ]
  },
  {
   "cell_type": "code",
   "execution_count": 27,
   "metadata": {
    "id": "iwIgVaYeNPoS"
   },
   "outputs": [],
   "source": [
    "from haystack.pipeline import ExtractiveQAPipeline\n",
    "\n",
    "# Original Finder deprecated, pipeline allows more flexibility\n",
    "# prediction = finder.get_answers(question=\"Who is the father of Arya Stark?\", top_k_retriever=10, top_k_reader=5)\n",
    "\n",
    "# top_k_retriever -> the more retriever the more document scanned in Reader, slower but higher hit rate\n",
    "extractive_pipeline = ExtractiveQAPipeline(reader=reader, retriever=retriever) # Other options: Document Search, Generative, FAQ"
   ]
  },
  {
   "cell_type": "code",
   "execution_count": 34,
   "metadata": {
    "colab": {
     "base_uri": "https://localhost:8080/"
    },
    "id": "s1EDRXomPo4X",
    "outputId": "b39a0175-31d8-44df-985c-2c80e1c93419"
   },
   "outputs": [
    {
     "name": "stdout",
     "output_type": "stream",
     "text": [
      "What would you like to ask? the father of arya stark\n"
     ]
    },
    {
     "name": "stderr",
     "output_type": "stream",
     "text": [
      "02/09/2021 01:04:47 - INFO - elasticsearch -   POST http://localhost:9200/document/_search [status:200 request:0.012s]\n",
      "Inferencing Samples: 100%|██████████| 1/1 [00:00<00:00, 10.68 Batches/s]\n",
      "Inferencing Samples: 100%|██████████| 1/1 [00:00<00:00,  5.48 Batches/s]\n",
      "Inferencing Samples: 100%|██████████| 1/1 [00:00<00:00, 19.09 Batches/s]\n",
      "Inferencing Samples: 100%|██████████| 1/1 [00:00<00:00, 18.60 Batches/s]\n",
      "Inferencing Samples: 100%|██████████| 1/1 [00:00<00:00, 18.40 Batches/s]\n",
      "Inferencing Samples: 100%|██████████| 1/1 [00:00<00:00,  9.66 Batches/s]\n",
      "Inferencing Samples: 100%|██████████| 1/1 [00:00<00:00,  9.85 Batches/s]\n",
      "Inferencing Samples: 100%|██████████| 1/1 [00:00<00:00,  6.59 Batches/s]\n",
      "Inferencing Samples: 100%|██████████| 1/1 [00:00<00:00,  3.27 Batches/s]\n",
      "Inferencing Samples: 100%|██████████| 1/1 [00:00<00:00,  9.27 Batches/s]"
     ]
    },
    {
     "name": "stdout",
     "output_type": "stream",
     "text": [
      "Eddard\n"
     ]
    },
    {
     "name": "stderr",
     "output_type": "stream",
     "text": [
      "\n"
     ]
    }
   ],
   "source": [
    "question = input(\"What would you like to ask? \")\n",
    "prediction = extractive_pipeline.run(query=question, top_k_retriever=10, top_k_reader=5)\n",
    "# print_answers(prediction, details=\"all\") #details: all, medium, minimal\n",
    "# data format: {query,'answers':[{'answer','score','probability','context','document_id','offset','meta'}]}\n",
    "print(prediction['answers'][0]['answer'])"
   ]
  }
 ],
 "metadata": {
  "accelerator": "GPU",
  "colab": {
   "collapsed_sections": [],
   "name": "Haystack_Preliminary_Pipeline_V1.0.ipynb",
   "provenance": []
  },
  "kernelspec": {
   "display_name": "Python 3",
   "language": "python",
   "name": "python3"
  },
  "language_info": {
   "codemirror_mode": {
    "name": "ipython",
    "version": 3
   },
   "file_extension": ".py",
   "mimetype": "text/x-python",
   "name": "python",
   "nbconvert_exporter": "python",
   "pygments_lexer": "ipython3",
   "version": "3.6.9"
  }
 },
 "nbformat": 4,
 "nbformat_minor": 1
}
